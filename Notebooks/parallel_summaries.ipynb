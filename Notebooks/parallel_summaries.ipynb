{
 "cells": [
  {
   "cell_type": "code",
   "execution_count": 10,
   "id": "daaec198-2865-46fc-aad0-c56b6afcfcbf",
   "metadata": {},
   "outputs": [
    {
     "name": "stdout",
     "output_type": "stream",
     "text": [
      "Requirement already satisfied: gradio in c:\\users\\njoki\\appdata\\local\\programs\\python\\python311\\lib\\site-packages (4.12.0)\n",
      "Requirement already satisfied: aiofiles<24.0,>=22.0 in c:\\users\\njoki\\appdata\\local\\programs\\python\\python311\\lib\\site-packages (from gradio) (23.2.1)\n",
      "Requirement already satisfied: altair<6.0,>=4.2.0 in c:\\users\\njoki\\appdata\\local\\programs\\python\\python311\\lib\\site-packages (from gradio) (5.2.0)\n",
      "Requirement already satisfied: fastapi in c:\\users\\njoki\\appdata\\local\\programs\\python\\python311\\lib\\site-packages (from gradio) (0.108.0)\n",
      "Requirement already satisfied: ffmpy in c:\\users\\njoki\\appdata\\local\\programs\\python\\python311\\lib\\site-packages (from gradio) (0.3.1)\n",
      "Requirement already satisfied: gradio-client==0.8.0 in c:\\users\\njoki\\appdata\\local\\programs\\python\\python311\\lib\\site-packages (from gradio) (0.8.0)\n",
      "Requirement already satisfied: httpx in c:\\users\\njoki\\appdata\\local\\programs\\python\\python311\\lib\\site-packages (from gradio) (0.26.0)\n",
      "Requirement already satisfied: huggingface-hub>=0.19.3 in c:\\users\\njoki\\appdata\\local\\programs\\python\\python311\\lib\\site-packages (from gradio) (0.20.1)\n",
      "Requirement already satisfied: importlib-resources<7.0,>=1.3 in c:\\users\\njoki\\appdata\\local\\programs\\python\\python311\\lib\\site-packages (from gradio) (6.1.1)\n",
      "Requirement already satisfied: jinja2<4.0 in c:\\users\\njoki\\appdata\\local\\programs\\python\\python311\\lib\\site-packages (from gradio) (3.1.2)\n",
      "Requirement already satisfied: markupsafe~=2.0 in c:\\users\\njoki\\appdata\\local\\programs\\python\\python311\\lib\\site-packages (from gradio) (2.1.3)\n",
      "Requirement already satisfied: matplotlib~=3.0 in c:\\users\\njoki\\appdata\\local\\programs\\python\\python311\\lib\\site-packages (from gradio) (3.8.2)\n",
      "Requirement already satisfied: numpy~=1.0 in c:\\users\\njoki\\appdata\\local\\programs\\python\\python311\\lib\\site-packages (from gradio) (1.26.2)\n",
      "Requirement already satisfied: orjson~=3.0 in c:\\users\\njoki\\appdata\\local\\programs\\python\\python311\\lib\\site-packages (from gradio) (3.9.10)\n",
      "Requirement already satisfied: packaging in c:\\users\\njoki\\appdata\\local\\programs\\python\\python311\\lib\\site-packages (from gradio) (23.2)\n",
      "Requirement already satisfied: pandas<3.0,>=1.0 in c:\\users\\njoki\\appdata\\local\\programs\\python\\python311\\lib\\site-packages (from gradio) (2.1.4)\n",
      "Requirement already satisfied: pillow<11.0,>=8.0 in c:\\users\\njoki\\appdata\\local\\programs\\python\\python311\\lib\\site-packages (from gradio) (10.1.0)\n",
      "Requirement already satisfied: pydantic>=2.0 in c:\\users\\njoki\\appdata\\local\\programs\\python\\python311\\lib\\site-packages (from gradio) (2.5.2)\n",
      "Requirement already satisfied: pydub in c:\\users\\njoki\\appdata\\local\\programs\\python\\python311\\lib\\site-packages (from gradio) (0.25.1)\n",
      "Requirement already satisfied: python-multipart in c:\\users\\njoki\\appdata\\local\\programs\\python\\python311\\lib\\site-packages (from gradio) (0.0.6)\n",
      "Requirement already satisfied: pyyaml<7.0,>=5.0 in c:\\users\\njoki\\appdata\\local\\programs\\python\\python311\\lib\\site-packages (from gradio) (6.0.1)\n",
      "Requirement already satisfied: semantic-version~=2.0 in c:\\users\\njoki\\appdata\\local\\programs\\python\\python311\\lib\\site-packages (from gradio) (2.10.0)\n",
      "Requirement already satisfied: tomlkit==0.12.0 in c:\\users\\njoki\\appdata\\local\\programs\\python\\python311\\lib\\site-packages (from gradio) (0.12.0)\n",
      "Requirement already satisfied: typer<1.0,>=0.9 in c:\\users\\njoki\\appdata\\local\\programs\\python\\python311\\lib\\site-packages (from typer[all]<1.0,>=0.9->gradio) (0.9.0)\n",
      "Requirement already satisfied: typing-extensions~=4.0 in c:\\users\\njoki\\appdata\\local\\programs\\python\\python311\\lib\\site-packages (from gradio) (4.9.0)\n",
      "Requirement already satisfied: uvicorn>=0.14.0 in c:\\users\\njoki\\appdata\\local\\programs\\python\\python311\\lib\\site-packages (from gradio) (0.25.0)\n",
      "Requirement already satisfied: fsspec in c:\\users\\njoki\\appdata\\local\\programs\\python\\python311\\lib\\site-packages (from gradio-client==0.8.0->gradio) (2023.10.0)\n",
      "Requirement already satisfied: websockets<12.0,>=10.0 in c:\\users\\njoki\\appdata\\local\\programs\\python\\python311\\lib\\site-packages (from gradio-client==0.8.0->gradio) (11.0.3)\n",
      "Requirement already satisfied: jsonschema>=3.0 in c:\\users\\njoki\\appdata\\local\\programs\\python\\python311\\lib\\site-packages (from altair<6.0,>=4.2.0->gradio) (4.20.0)\n",
      "Requirement already satisfied: toolz in c:\\users\\njoki\\appdata\\local\\programs\\python\\python311\\lib\\site-packages (from altair<6.0,>=4.2.0->gradio) (0.12.0)\n",
      "Requirement already satisfied: filelock in c:\\users\\njoki\\appdata\\local\\programs\\python\\python311\\lib\\site-packages (from huggingface-hub>=0.19.3->gradio) (3.13.1)\n",
      "Requirement already satisfied: requests in c:\\users\\njoki\\appdata\\local\\programs\\python\\python311\\lib\\site-packages (from huggingface-hub>=0.19.3->gradio) (2.31.0)\n",
      "Requirement already satisfied: tqdm>=4.42.1 in c:\\users\\njoki\\appdata\\local\\programs\\python\\python311\\lib\\site-packages (from huggingface-hub>=0.19.3->gradio) (4.62.3)\n",
      "Requirement already satisfied: contourpy>=1.0.1 in c:\\users\\njoki\\appdata\\local\\programs\\python\\python311\\lib\\site-packages (from matplotlib~=3.0->gradio) (1.2.0)\n",
      "Requirement already satisfied: cycler>=0.10 in c:\\users\\njoki\\appdata\\local\\programs\\python\\python311\\lib\\site-packages (from matplotlib~=3.0->gradio) (0.12.1)\n",
      "Requirement already satisfied: fonttools>=4.22.0 in c:\\users\\njoki\\appdata\\local\\programs\\python\\python311\\lib\\site-packages (from matplotlib~=3.0->gradio) (4.47.0)\n",
      "Requirement already satisfied: kiwisolver>=1.3.1 in c:\\users\\njoki\\appdata\\local\\programs\\python\\python311\\lib\\site-packages (from matplotlib~=3.0->gradio) (1.4.5)\n",
      "Requirement already satisfied: pyparsing>=2.3.1 in c:\\users\\njoki\\appdata\\local\\programs\\python\\python311\\lib\\site-packages (from matplotlib~=3.0->gradio) (3.1.1)\n",
      "Requirement already satisfied: python-dateutil>=2.7 in c:\\users\\njoki\\appdata\\local\\programs\\python\\python311\\lib\\site-packages (from matplotlib~=3.0->gradio) (2.8.2)\n",
      "Requirement already satisfied: pytz>=2020.1 in c:\\users\\njoki\\appdata\\local\\programs\\python\\python311\\lib\\site-packages (from pandas<3.0,>=1.0->gradio) (2023.3.post1)\n",
      "Requirement already satisfied: tzdata>=2022.1 in c:\\users\\njoki\\appdata\\local\\programs\\python\\python311\\lib\\site-packages (from pandas<3.0,>=1.0->gradio) (2023.3)\n",
      "Requirement already satisfied: annotated-types>=0.4.0 in c:\\users\\njoki\\appdata\\local\\programs\\python\\python311\\lib\\site-packages (from pydantic>=2.0->gradio) (0.6.0)\n",
      "Requirement already satisfied: pydantic-core==2.14.5 in c:\\users\\njoki\\appdata\\local\\programs\\python\\python311\\lib\\site-packages (from pydantic>=2.0->gradio) (2.14.5)\n",
      "Requirement already satisfied: click<9.0.0,>=7.1.1 in c:\\users\\njoki\\appdata\\local\\programs\\python\\python311\\lib\\site-packages (from typer<1.0,>=0.9->typer[all]<1.0,>=0.9->gradio) (8.1.7)\n",
      "Requirement already satisfied: colorama<0.5.0,>=0.4.3 in c:\\users\\njoki\\appdata\\local\\programs\\python\\python311\\lib\\site-packages (from typer[all]<1.0,>=0.9->gradio) (0.4.6)\n",
      "Requirement already satisfied: shellingham<2.0.0,>=1.3.0 in c:\\users\\njoki\\appdata\\local\\programs\\python\\python311\\lib\\site-packages (from typer[all]<1.0,>=0.9->gradio) (1.5.4)\n",
      "Requirement already satisfied: rich<14.0.0,>=10.11.0 in c:\\users\\njoki\\appdata\\local\\programs\\python\\python311\\lib\\site-packages (from typer[all]<1.0,>=0.9->gradio) (13.7.0)\n",
      "Requirement already satisfied: h11>=0.8 in c:\\users\\njoki\\appdata\\local\\programs\\python\\python311\\lib\\site-packages (from uvicorn>=0.14.0->gradio) (0.14.0)\n",
      "Requirement already satisfied: starlette<0.33.0,>=0.29.0 in c:\\users\\njoki\\appdata\\local\\programs\\python\\python311\\lib\\site-packages (from fastapi->gradio) (0.32.0.post1)\n",
      "Requirement already satisfied: anyio in c:\\users\\njoki\\appdata\\local\\programs\\python\\python311\\lib\\site-packages (from httpx->gradio) (4.2.0)\n",
      "Requirement already satisfied: certifi in c:\\users\\njoki\\appdata\\local\\programs\\python\\python311\\lib\\site-packages (from httpx->gradio) (2023.11.17)\n",
      "Requirement already satisfied: httpcore==1.* in c:\\users\\njoki\\appdata\\local\\programs\\python\\python311\\lib\\site-packages (from httpx->gradio) (1.0.2)\n",
      "Requirement already satisfied: idna in c:\\users\\njoki\\appdata\\local\\programs\\python\\python311\\lib\\site-packages (from httpx->gradio) (3.6)\n",
      "Requirement already satisfied: sniffio in c:\\users\\njoki\\appdata\\local\\programs\\python\\python311\\lib\\site-packages (from httpx->gradio) (1.3.0)\n",
      "Requirement already satisfied: attrs>=22.2.0 in c:\\users\\njoki\\appdata\\local\\programs\\python\\python311\\lib\\site-packages (from jsonschema>=3.0->altair<6.0,>=4.2.0->gradio) (23.1.0)\n",
      "Requirement already satisfied: jsonschema-specifications>=2023.03.6 in c:\\users\\njoki\\appdata\\local\\programs\\python\\python311\\lib\\site-packages (from jsonschema>=3.0->altair<6.0,>=4.2.0->gradio) (2023.12.1)\n",
      "Requirement already satisfied: referencing>=0.28.4 in c:\\users\\njoki\\appdata\\local\\programs\\python\\python311\\lib\\site-packages (from jsonschema>=3.0->altair<6.0,>=4.2.0->gradio) (0.32.0)\n",
      "Requirement already satisfied: rpds-py>=0.7.1 in c:\\users\\njoki\\appdata\\local\\programs\\python\\python311\\lib\\site-packages (from jsonschema>=3.0->altair<6.0,>=4.2.0->gradio) (0.15.2)\n",
      "Requirement already satisfied: six>=1.5 in c:\\users\\njoki\\appdata\\local\\programs\\python\\python311\\lib\\site-packages (from python-dateutil>=2.7->matplotlib~=3.0->gradio) (1.16.0)\n",
      "Requirement already satisfied: markdown-it-py>=2.2.0 in c:\\users\\njoki\\appdata\\local\\programs\\python\\python311\\lib\\site-packages (from rich<14.0.0,>=10.11.0->typer[all]<1.0,>=0.9->gradio) (3.0.0)\n",
      "Requirement already satisfied: pygments<3.0.0,>=2.13.0 in c:\\users\\njoki\\appdata\\local\\programs\\python\\python311\\lib\\site-packages (from rich<14.0.0,>=10.11.0->typer[all]<1.0,>=0.9->gradio) (2.17.2)\n",
      "Requirement already satisfied: charset-normalizer<4,>=2 in c:\\users\\njoki\\appdata\\local\\programs\\python\\python311\\lib\\site-packages (from requests->huggingface-hub>=0.19.3->gradio) (2.0.12)\n",
      "Requirement already satisfied: urllib3<3,>=1.21.1 in c:\\users\\njoki\\appdata\\local\\programs\\python\\python311\\lib\\site-packages (from requests->huggingface-hub>=0.19.3->gradio) (1.26.18)\n",
      "Requirement already satisfied: mdurl~=0.1 in c:\\users\\njoki\\appdata\\local\\programs\\python\\python311\\lib\\site-packages (from markdown-it-py>=2.2.0->rich<14.0.0,>=10.11.0->typer[all]<1.0,>=0.9->gradio) (0.1.2)\n",
      "Requirement already satisfied: transformers in c:\\users\\njoki\\appdata\\local\\programs\\python\\python311\\lib\\site-packages (4.36.2)\n",
      "Requirement already satisfied: filelock in c:\\users\\njoki\\appdata\\local\\programs\\python\\python311\\lib\\site-packages (from transformers) (3.13.1)\n",
      "Requirement already satisfied: huggingface-hub<1.0,>=0.19.3 in c:\\users\\njoki\\appdata\\local\\programs\\python\\python311\\lib\\site-packages (from transformers) (0.20.1)\n",
      "Requirement already satisfied: numpy>=1.17 in c:\\users\\njoki\\appdata\\local\\programs\\python\\python311\\lib\\site-packages (from transformers) (1.26.2)\n",
      "Requirement already satisfied: packaging>=20.0 in c:\\users\\njoki\\appdata\\local\\programs\\python\\python311\\lib\\site-packages (from transformers) (23.2)\n",
      "Requirement already satisfied: pyyaml>=5.1 in c:\\users\\njoki\\appdata\\local\\programs\\python\\python311\\lib\\site-packages (from transformers) (6.0.1)\n",
      "Requirement already satisfied: regex!=2019.12.17 in c:\\users\\njoki\\appdata\\local\\programs\\python\\python311\\lib\\site-packages (from transformers) (2023.10.3)\n",
      "Requirement already satisfied: requests in c:\\users\\njoki\\appdata\\local\\programs\\python\\python311\\lib\\site-packages (from transformers) (2.31.0)\n",
      "Requirement already satisfied: tokenizers<0.19,>=0.14 in c:\\users\\njoki\\appdata\\local\\programs\\python\\python311\\lib\\site-packages (from transformers) (0.15.0)\n",
      "Requirement already satisfied: safetensors>=0.3.1 in c:\\users\\njoki\\appdata\\local\\programs\\python\\python311\\lib\\site-packages (from transformers) (0.4.1)\n",
      "Requirement already satisfied: tqdm>=4.27 in c:\\users\\njoki\\appdata\\local\\programs\\python\\python311\\lib\\site-packages (from transformers) (4.62.3)\n",
      "Requirement already satisfied: fsspec>=2023.5.0 in c:\\users\\njoki\\appdata\\local\\programs\\python\\python311\\lib\\site-packages (from huggingface-hub<1.0,>=0.19.3->transformers) (2023.10.0)\n",
      "Requirement already satisfied: typing-extensions>=3.7.4.3 in c:\\users\\njoki\\appdata\\local\\programs\\python\\python311\\lib\\site-packages (from huggingface-hub<1.0,>=0.19.3->transformers) (4.9.0)\n",
      "Requirement already satisfied: colorama in c:\\users\\njoki\\appdata\\local\\programs\\python\\python311\\lib\\site-packages (from tqdm>=4.27->transformers) (0.4.6)\n",
      "Requirement already satisfied: charset-normalizer<4,>=2 in c:\\users\\njoki\\appdata\\local\\programs\\python\\python311\\lib\\site-packages (from requests->transformers) (2.0.12)\n",
      "Requirement already satisfied: idna<4,>=2.5 in c:\\users\\njoki\\appdata\\local\\programs\\python\\python311\\lib\\site-packages (from requests->transformers) (3.6)\n",
      "Requirement already satisfied: urllib3<3,>=1.21.1 in c:\\users\\njoki\\appdata\\local\\programs\\python\\python311\\lib\\site-packages (from requests->transformers) (1.26.18)\n",
      "Requirement already satisfied: certifi>=2017.4.17 in c:\\users\\njoki\\appdata\\local\\programs\\python\\python311\\lib\\site-packages (from requests->transformers) (2023.11.17)\n",
      "Requirement already satisfied: nltk in c:\\users\\njoki\\appdata\\local\\programs\\python\\python311\\lib\\site-packages (3.8.1)\n",
      "Requirement already satisfied: click in c:\\users\\njoki\\appdata\\local\\programs\\python\\python311\\lib\\site-packages (from nltk) (8.1.7)\n",
      "Requirement already satisfied: joblib in c:\\users\\njoki\\appdata\\local\\programs\\python\\python311\\lib\\site-packages (from nltk) (1.3.2)\n",
      "Requirement already satisfied: regex>=2021.8.3 in c:\\users\\njoki\\appdata\\local\\programs\\python\\python311\\lib\\site-packages (from nltk) (2023.10.3)\n",
      "Requirement already satisfied: tqdm in c:\\users\\njoki\\appdata\\local\\programs\\python\\python311\\lib\\site-packages (from nltk) (4.62.3)\n",
      "Requirement already satisfied: colorama in c:\\users\\njoki\\appdata\\local\\programs\\python\\python311\\lib\\site-packages (from click->nltk) (0.4.6)\n"
     ]
    }
   ],
   "source": [
    "!pip install gradio  \n",
    "!pip install  transformers\n",
    "!pip install nltk\n",
    "\n"
   ]
  },
  {
   "cell_type": "code",
   "execution_count": 14,
   "id": "d31a3da0-69e5-4813-a36b-79004541444e",
   "metadata": {},
   "outputs": [
    {
     "name": "stdout",
     "output_type": "stream",
     "text": [
      "WARNING:tensorflow:From C:\\Users\\njoki\\AppData\\Local\\Programs\\Python\\Python311\\Lib\\site-packages\\keras\\src\\losses.py:2976: The name tf.losses.sparse_softmax_cross_entropy is deprecated. Please use tf.compat.v1.losses.sparse_softmax_cross_entropy instead.\n",
      "\n"
     ]
    }
   ],
   "source": [
    "\n",
    "import gradio as gr\n",
    "import re\n",
    "import warnings\n",
    "\n",
    "#from gradio.mix import Parallel\n",
    "from nltk.tokenize import sent_tokenize\n",
    "from transformers import (\n",
    "    AutoTokenizer,\n",
    "    AutoModel,\n",
    "    AutoModelForSeq2SeqLM,\n",
    "    Wav2Vec2ForCTC,\n",
    "    Wav2Vec2Tokenizer,\n",
    "    pipeline,\n",
    ")\n",
    "\n",
    "warnings.filterwarnings('ignore')"
   ]
  },
  {
   "cell_type": "markdown",
   "id": "c2e0c69e-5ee7-416a-86af-cff477151b1d",
   "metadata": {},
   "source": [
    "**Load Data and Define Summarizing functions**"
   ]
  },
  {
   "cell_type": "code",
   "execution_count": 15,
   "id": "6252d084-675c-40d0-8652-63df2870c970",
   "metadata": {},
   "outputs": [],
   "source": [
    "import pickle\n",
    "\n",
    "with open('cleaned_data.pkl', 'rb') as file:\n",
    "     dataset = pickle.load(file)"
   ]
  },
  {
   "cell_type": "markdown",
   "id": "2266833b-558c-46b3-9aee-1fc887976081",
   "metadata": {},
   "source": [
    "**a. Summarization via Hugging Face Pipeline**\n",
    "\n",
    "\n",
    "Hugging Face's pipeline allows you to load up several summarization models, from FB's Bart to Google's T5. "
   ]
  },
  {
   "cell_type": "code",
   "execution_count": 30,
   "id": "d0ba4a29-485e-4d8a-af15-91b78883b6d3",
   "metadata": {},
   "outputs": [],
   "source": [
    "import sentencepiece as spm\n",
    "# Load the slow tokenizer\n",
    "slow_tokenizer = YourSlowTokenizer()\n",
    "\n",
    "# Convert to fast tokenizer using SentencePiece\n",
    "sp_tokenizer = spm.SentencePieceProcessor()\n",
    "sp_tokenizer.Load(\"path/to/sentencepiece_model.model\")\n",
    "\n",
    "# Now you can use sp_tokenizer for tokenization\n",
    "tokens = sp_tokenizer.EncodeAsPieces(\"Your input text\")\n",
    "\n",
    "\n",
    "pipeline_summ = pipeline(\n",
    "    \"summarization\",\n",
    "    model=\"facebook/bart-large-cnn\", # one can also use\"t5-small\" etc \n",
    "    tokenizer=\"facebook/bart-large-cnn\",\n",
    "    framework=\"pt\",\n",
    ")\n",
    "\n",
    "# First of 2 summarization function\n",
    "def fb_summarizer(dataset):\n",
    "    #input_text = dataset\n",
    "    results = pipeline_summ(dataset)\n",
    "    return [result[\"summary_text\"] for result in results]\n",
    "\n",
    "# First of 2 Gradio apps to use in \"parallel\"\n",
    "summary1 = gr.Interface(\n",
    "    fn=fb_summarizer,\n",
    "    inputs=gr.Textbox(),\n",
    "    outputs=gr.Textbox(label=\"Summary by FB/Bart-large\"),\n",
    ")"
   ]
  },
  {
   "cell_type": "markdown",
   "id": "4ce09a61-21d5-4a9c-ad58-1edeb17a1169",
   "metadata": {},
   "source": [
    "**b. Summarization using Hugging  Face's Model Hub**"
   ]
  },
  {
   "cell_type": "code",
   "execution_count": 33,
   "id": "ef7ec2ff-2c51-4779-bd4c-358577ecdc0f",
   "metadata": {},
   "outputs": [],
   "source": [
    "model_name = \"google/pegasus-cnn_dailymail\" \n",
    "\n",
    "# Second of 2 summarization function\n",
    "def google_summarizer(dataset):\n",
    "    input_texts = dataset\n",
    "    \n",
    "    tokenizer_pegasus = AutoTokenizer.from_pretrained(model_name)\n",
    "\n",
    "    model_pegasus = AutoModelForSeq2SeqLM.from_pretrained(model_name)\n",
    "\n",
    "    batch = tokenizer_pegasus.prepare_seq2seq_batch(\n",
    "        input_texts, truncation=True, padding=\"longest\", return_tensors=\"pt\"\n",
    "    )\n",
    "    translated = model_pegasus.generate(**batch)\n",
    "\n",
    "    pegasus_summary = tokenizer_pegasus.batch_decode(\n",
    "        translated, skip_special_tokens=True\n",
    "    )\n",
    "\n",
    "    return pegasus_summary[0]\n",
    "\n",
    "# Second of 2 Gradio apps to use in \"parallel\"\n",
    "summary2 = gr.Interface(\n",
    "    fn=google_summarizer,\n",
    "    inputs=gr.Textbox(),\n",
    "    outputs=gr.Textbox(label=\"Summary by Google/Pegasus-CNN-Dailymail\"),\n",
    ")"
   ]
  },
  {
   "cell_type": "markdown",
   "id": "c3c1108b-cbe5-41c9-96fa-701d3af72f93",
   "metadata": {},
   "source": [
    "**2. Launch the Models in Parallel**"
   ]
  },
  {
   "cell_type": "code",
   "execution_count": 41,
   "id": "bbd06638-ef5d-4bc7-9efe-239326f9d388",
   "metadata": {},
   "outputs": [
    {
     "name": "stdout",
     "output_type": "stream",
     "text": [
      "Requirement already satisfied: sentencepiece in c:\\users\\njoki\\appdata\\local\\programs\\python\\python311\\lib\\site-packages (0.1.99)\n"
     ]
    }
   ],
   "source": [
    "!pip install sentencepiece"
   ]
  },
  {
   "cell_type": "code",
   "execution_count": 43,
   "id": "35490f60-b80d-4916-bb89-6d6ce153d900",
   "metadata": {},
   "outputs": [
    {
     "name": "stdout",
     "output_type": "stream",
     "text": [
      "Running on local URL:  http://127.0.0.1:7865\n",
      "Running on public URL: https://38b6c94d716b0d9461.gradio.live\n",
      "\n",
      "This share link expires in 72 hours. For free permanent hosting and GPU upgrades, run `gradio deploy` from Terminal to deploy to Spaces (https://huggingface.co/spaces)\n"
     ]
    },
    {
     "data": {
      "text/html": [
       "<div><iframe src=\"https://38b6c94d716b0d9461.gradio.live\" width=\"100%\" height=\"500\" allow=\"autoplay; camera; microphone; clipboard-read; clipboard-write;\" frameborder=\"0\" allowfullscreen></iframe></div>"
      ],
      "text/plain": [
       "<IPython.core.display.HTML object>"
      ]
     },
     "metadata": {},
     "output_type": "display_data"
    },
    {
     "data": {
      "text/plain": []
     },
     "execution_count": 43,
     "metadata": {},
     "output_type": "execute_result"
    },
    {
     "name": "stderr",
     "output_type": "stream",
     "text": [
      "Traceback (most recent call last):\n",
      "  File \"C:\\Users\\njoki\\AppData\\Local\\Programs\\Python\\Python311\\Lib\\site-packages\\gradio\\queueing.py\", line 489, in call_prediction\n",
      "    output = await route_utils.call_process_api(\n",
      "             ^^^^^^^^^^^^^^^^^^^^^^^^^^^^^^^^^^^\n",
      "  File \"C:\\Users\\njoki\\AppData\\Local\\Programs\\Python\\Python311\\Lib\\site-packages\\gradio\\route_utils.py\", line 232, in call_process_api\n",
      "    output = await app.get_blocks().process_api(\n",
      "             ^^^^^^^^^^^^^^^^^^^^^^^^^^^^^^^^^^^\n",
      "  File \"C:\\Users\\njoki\\AppData\\Local\\Programs\\Python\\Python311\\Lib\\site-packages\\gradio\\blocks.py\", line 1561, in process_api\n",
      "    result = await self.call_function(\n",
      "             ^^^^^^^^^^^^^^^^^^^^^^^^^\n",
      "  File \"C:\\Users\\njoki\\AppData\\Local\\Programs\\Python\\Python311\\Lib\\site-packages\\gradio\\blocks.py\", line 1179, in call_function\n",
      "    prediction = await anyio.to_thread.run_sync(\n",
      "                 ^^^^^^^^^^^^^^^^^^^^^^^^^^^^^^^\n",
      "  File \"C:\\Users\\njoki\\AppData\\Local\\Programs\\Python\\Python311\\Lib\\site-packages\\anyio\\to_thread.py\", line 56, in run_sync\n",
      "    return await get_async_backend().run_sync_in_worker_thread(\n",
      "           ^^^^^^^^^^^^^^^^^^^^^^^^^^^^^^^^^^^^^^^^^^^^^^^^^^^^\n",
      "  File \"C:\\Users\\njoki\\AppData\\Local\\Programs\\Python\\Python311\\Lib\\site-packages\\anyio\\_backends\\_asyncio.py\", line 2134, in run_sync_in_worker_thread\n",
      "    return await future\n",
      "           ^^^^^^^^^^^^\n",
      "  File \"C:\\Users\\njoki\\AppData\\Local\\Programs\\Python\\Python311\\Lib\\site-packages\\anyio\\_backends\\_asyncio.py\", line 851, in run\n",
      "    result = context.run(func, *args)\n",
      "             ^^^^^^^^^^^^^^^^^^^^^^^^\n",
      "  File \"C:\\Users\\njoki\\AppData\\Local\\Programs\\Python\\Python311\\Lib\\site-packages\\gradio\\utils.py\", line 678, in wrapper\n",
      "    response = f(*args, **kwargs)\n",
      "               ^^^^^^^^^^^^^^^^^^\n",
      "  File \"C:\\Users\\njoki\\AppData\\Local\\Programs\\Python\\Python311\\Lib\\site-packages\\gradio\\blocks.py\", line 1109, in __call__\n",
      "    outputs = client_utils.synchronize_async(\n",
      "              ^^^^^^^^^^^^^^^^^^^^^^^^^^^^^^^\n",
      "  File \"C:\\Users\\njoki\\AppData\\Local\\Programs\\Python\\Python311\\Lib\\site-packages\\gradio_client\\utils.py\", line 808, in synchronize_async\n",
      "    return fsspec.asyn.sync(fsspec.asyn.get_loop(), func, *args, **kwargs)  # type: ignore\n",
      "           ^^^^^^^^^^^^^^^^^^^^^^^^^^^^^^^^^^^^^^^^^^^^^^^^^^^^^^^^^^^^^^^\n",
      "  File \"C:\\Users\\njoki\\AppData\\Local\\Programs\\Python\\Python311\\Lib\\site-packages\\fsspec\\asyn.py\", line 103, in sync\n",
      "    raise return_result\n",
      "  File \"C:\\Users\\njoki\\AppData\\Local\\Programs\\Python\\Python311\\Lib\\site-packages\\fsspec\\asyn.py\", line 56, in _runner\n",
      "    result[0] = await coro\n",
      "                ^^^^^^^^^^\n",
      "  File \"C:\\Users\\njoki\\AppData\\Local\\Programs\\Python\\Python311\\Lib\\site-packages\\gradio\\blocks.py\", line 1561, in process_api\n",
      "    result = await self.call_function(\n",
      "             ^^^^^^^^^^^^^^^^^^^^^^^^^\n",
      "  File \"C:\\Users\\njoki\\AppData\\Local\\Programs\\Python\\Python311\\Lib\\site-packages\\gradio\\blocks.py\", line 1179, in call_function\n",
      "    prediction = await anyio.to_thread.run_sync(\n",
      "                 ^^^^^^^^^^^^^^^^^^^^^^^^^^^^^^^\n",
      "  File \"C:\\Users\\njoki\\AppData\\Local\\Programs\\Python\\Python311\\Lib\\site-packages\\anyio\\to_thread.py\", line 56, in run_sync\n",
      "    return await get_async_backend().run_sync_in_worker_thread(\n",
      "           ^^^^^^^^^^^^^^^^^^^^^^^^^^^^^^^^^^^^^^^^^^^^^^^^^^^^\n",
      "  File \"C:\\Users\\njoki\\AppData\\Local\\Programs\\Python\\Python311\\Lib\\site-packages\\anyio\\_backends\\_asyncio.py\", line 2134, in run_sync_in_worker_thread\n",
      "    return await future\n",
      "           ^^^^^^^^^^^^\n",
      "  File \"C:\\Users\\njoki\\AppData\\Local\\Programs\\Python\\Python311\\Lib\\site-packages\\anyio\\_backends\\_asyncio.py\", line 851, in run\n",
      "    result = context.run(func, *args)\n",
      "             ^^^^^^^^^^^^^^^^^^^^^^^^\n",
      "  File \"C:\\Users\\njoki\\AppData\\Local\\Programs\\Python\\Python311\\Lib\\site-packages\\gradio\\utils.py\", line 678, in wrapper\n",
      "    response = f(*args, **kwargs)\n",
      "               ^^^^^^^^^^^^^^^^^^\n",
      "  File \"C:\\Users\\njoki\\AppData\\Local\\Temp\\ipykernel_14396\\770405249.py\", line 7, in google_summarizer\n",
      "    tokenizer_pegasus = AutoTokenizer.from_pretrained(model_name)\n",
      "                        ^^^^^^^^^^^^^^^^^^^^^^^^^^^^^^^^^^^^^^^^^\n",
      "  File \"C:\\Users\\njoki\\AppData\\Local\\Programs\\Python\\Python311\\Lib\\site-packages\\transformers\\models\\auto\\tokenization_auto.py\", line 805, in from_pretrained\n",
      "    return tokenizer_class_fast.from_pretrained(pretrained_model_name_or_path, *inputs, **kwargs)\n",
      "           ^^^^^^^^^^^^^^^^^^^^^^^^^^^^^^^^^^^^^^^^^^^^^^^^^^^^^^^^^^^^^^^^^^^^^^^^^^^^^^^^^^^^^^\n",
      "  File \"C:\\Users\\njoki\\AppData\\Local\\Programs\\Python\\Python311\\Lib\\site-packages\\transformers\\tokenization_utils_base.py\", line 2028, in from_pretrained\n",
      "    return cls._from_pretrained(\n",
      "           ^^^^^^^^^^^^^^^^^^^^^\n",
      "  File \"C:\\Users\\njoki\\AppData\\Local\\Programs\\Python\\Python311\\Lib\\site-packages\\transformers\\tokenization_utils_base.py\", line 2260, in _from_pretrained\n",
      "    tokenizer = cls(*init_inputs, **init_kwargs)\n",
      "                ^^^^^^^^^^^^^^^^^^^^^^^^^^^^^^^^\n",
      "  File \"C:\\Users\\njoki\\AppData\\Local\\Programs\\Python\\Python311\\Lib\\site-packages\\transformers\\models\\pegasus\\tokenization_pegasus_fast.py\", line 150, in __init__\n",
      "    super().__init__(\n",
      "  File \"C:\\Users\\njoki\\AppData\\Local\\Programs\\Python\\Python311\\Lib\\site-packages\\transformers\\tokenization_utils_fast.py\", line 120, in __init__\n",
      "    raise ValueError(\n",
      "ValueError: Couldn't instantiate the backend tokenizer from one of: \n",
      "(1) a `tokenizers` library serialization file, \n",
      "(2) a slow tokenizer instance to convert or \n",
      "(3) an equivalent slow tokenizer class to instantiate and convert. \n",
      "You need to have sentencepiece installed to convert a slow tokenizer to a fast one.\n"
     ]
    }
   ],
   "source": [
    "# Create a Gradio Interface with parallel inputs\n",
    "iface = gr.Interface(\n",
    "    fn=summary1,  # List of functions for parallel processing\n",
    "    inputs=gr.Textbox(lines=20, label=\"Paste some text here\"),\n",
    "    outputs=[\"text\"],  # Two text outputs for the results\n",
    "    title=\"Compare 2 AI Summarizers\"\n",
    ")\n",
    "\n",
    "# Launch the interface\n",
    "iface.launch(share=True)"
   ]
  },
  {
   "cell_type": "code",
   "execution_count": 40,
   "id": "e01f79dc-9359-41d8-958c-a93c00ee517f",
   "metadata": {},
   "outputs": [
    {
     "name": "stdout",
     "output_type": "stream",
     "text": [
      "Running on local URL:  http://127.0.0.1:7863\n",
      "Running on public URL: https://7a883f8feddaa34015.gradio.live\n",
      "\n",
      "This share link expires in 72 hours. For free permanent hosting and GPU upgrades, run `gradio deploy` from Terminal to deploy to Spaces (https://huggingface.co/spaces)\n"
     ]
    },
    {
     "data": {
      "text/html": [
       "<div><iframe src=\"https://7a883f8feddaa34015.gradio.live\" width=\"100%\" height=\"500\" allow=\"autoplay; camera; microphone; clipboard-read; clipboard-write;\" frameborder=\"0\" allowfullscreen></iframe></div>"
      ],
      "text/plain": [
       "<IPython.core.display.HTML object>"
      ]
     },
     "metadata": {},
     "output_type": "display_data"
    },
    {
     "data": {
      "text/plain": []
     },
     "execution_count": 40,
     "metadata": {},
     "output_type": "execute_result"
    },
    {
     "name": "stderr",
     "output_type": "stream",
     "text": [
      "Traceback (most recent call last):\n",
      "  File \"C:\\Users\\njoki\\AppData\\Local\\Programs\\Python\\Python311\\Lib\\site-packages\\gradio\\queueing.py\", line 489, in call_prediction\n",
      "    output = await route_utils.call_process_api(\n",
      "             ^^^^^^^^^^^^^^^^^^^^^^^^^^^^^^^^^^^\n",
      "  File \"C:\\Users\\njoki\\AppData\\Local\\Programs\\Python\\Python311\\Lib\\site-packages\\gradio\\route_utils.py\", line 232, in call_process_api\n",
      "    output = await app.get_blocks().process_api(\n",
      "             ^^^^^^^^^^^^^^^^^^^^^^^^^^^^^^^^^^^\n",
      "  File \"C:\\Users\\njoki\\AppData\\Local\\Programs\\Python\\Python311\\Lib\\site-packages\\gradio\\blocks.py\", line 1561, in process_api\n",
      "    result = await self.call_function(\n",
      "             ^^^^^^^^^^^^^^^^^^^^^^^^^\n",
      "  File \"C:\\Users\\njoki\\AppData\\Local\\Programs\\Python\\Python311\\Lib\\site-packages\\gradio\\blocks.py\", line 1179, in call_function\n",
      "    prediction = await anyio.to_thread.run_sync(\n",
      "                 ^^^^^^^^^^^^^^^^^^^^^^^^^^^^^^^\n",
      "  File \"C:\\Users\\njoki\\AppData\\Local\\Programs\\Python\\Python311\\Lib\\site-packages\\anyio\\to_thread.py\", line 56, in run_sync\n",
      "    return await get_async_backend().run_sync_in_worker_thread(\n",
      "           ^^^^^^^^^^^^^^^^^^^^^^^^^^^^^^^^^^^^^^^^^^^^^^^^^^^^\n",
      "  File \"C:\\Users\\njoki\\AppData\\Local\\Programs\\Python\\Python311\\Lib\\site-packages\\anyio\\_backends\\_asyncio.py\", line 2134, in run_sync_in_worker_thread\n",
      "    return await future\n",
      "           ^^^^^^^^^^^^\n",
      "  File \"C:\\Users\\njoki\\AppData\\Local\\Programs\\Python\\Python311\\Lib\\site-packages\\anyio\\_backends\\_asyncio.py\", line 851, in run\n",
      "    result = context.run(func, *args)\n",
      "             ^^^^^^^^^^^^^^^^^^^^^^^^\n",
      "  File \"C:\\Users\\njoki\\AppData\\Local\\Programs\\Python\\Python311\\Lib\\site-packages\\gradio\\utils.py\", line 678, in wrapper\n",
      "    response = f(*args, **kwargs)\n",
      "               ^^^^^^^^^^^^^^^^^^\n",
      "  File \"C:\\Users\\njoki\\AppData\\Local\\Programs\\Python\\Python311\\Lib\\site-packages\\gradio\\blocks.py\", line 1109, in __call__\n",
      "    outputs = client_utils.synchronize_async(\n",
      "              ^^^^^^^^^^^^^^^^^^^^^^^^^^^^^^^\n",
      "  File \"C:\\Users\\njoki\\AppData\\Local\\Programs\\Python\\Python311\\Lib\\site-packages\\gradio_client\\utils.py\", line 808, in synchronize_async\n",
      "    return fsspec.asyn.sync(fsspec.asyn.get_loop(), func, *args, **kwargs)  # type: ignore\n",
      "           ^^^^^^^^^^^^^^^^^^^^^^^^^^^^^^^^^^^^^^^^^^^^^^^^^^^^^^^^^^^^^^^\n",
      "  File \"C:\\Users\\njoki\\AppData\\Local\\Programs\\Python\\Python311\\Lib\\site-packages\\fsspec\\asyn.py\", line 103, in sync\n",
      "    raise return_result\n",
      "  File \"C:\\Users\\njoki\\AppData\\Local\\Programs\\Python\\Python311\\Lib\\site-packages\\fsspec\\asyn.py\", line 56, in _runner\n",
      "    result[0] = await coro\n",
      "                ^^^^^^^^^^\n",
      "  File \"C:\\Users\\njoki\\AppData\\Local\\Programs\\Python\\Python311\\Lib\\site-packages\\gradio\\blocks.py\", line 1561, in process_api\n",
      "    result = await self.call_function(\n",
      "             ^^^^^^^^^^^^^^^^^^^^^^^^^\n",
      "  File \"C:\\Users\\njoki\\AppData\\Local\\Programs\\Python\\Python311\\Lib\\site-packages\\gradio\\blocks.py\", line 1179, in call_function\n",
      "    prediction = await anyio.to_thread.run_sync(\n",
      "                 ^^^^^^^^^^^^^^^^^^^^^^^^^^^^^^^\n",
      "  File \"C:\\Users\\njoki\\AppData\\Local\\Programs\\Python\\Python311\\Lib\\site-packages\\anyio\\to_thread.py\", line 56, in run_sync\n",
      "    return await get_async_backend().run_sync_in_worker_thread(\n",
      "           ^^^^^^^^^^^^^^^^^^^^^^^^^^^^^^^^^^^^^^^^^^^^^^^^^^^^\n",
      "  File \"C:\\Users\\njoki\\AppData\\Local\\Programs\\Python\\Python311\\Lib\\site-packages\\anyio\\_backends\\_asyncio.py\", line 2134, in run_sync_in_worker_thread\n",
      "    return await future\n",
      "           ^^^^^^^^^^^^\n",
      "  File \"C:\\Users\\njoki\\AppData\\Local\\Programs\\Python\\Python311\\Lib\\site-packages\\anyio\\_backends\\_asyncio.py\", line 851, in run\n",
      "    result = context.run(func, *args)\n",
      "             ^^^^^^^^^^^^^^^^^^^^^^^^\n",
      "  File \"C:\\Users\\njoki\\AppData\\Local\\Programs\\Python\\Python311\\Lib\\site-packages\\gradio\\utils.py\", line 678, in wrapper\n",
      "    response = f(*args, **kwargs)\n",
      "               ^^^^^^^^^^^^^^^^^^\n",
      "  File \"C:\\Users\\njoki\\AppData\\Local\\Temp\\ipykernel_14396\\770405249.py\", line 7, in google_summarizer\n",
      "    tokenizer_pegasus = AutoTokenizer.from_pretrained(model_name)\n",
      "                        ^^^^^^^^^^^^^^^^^^^^^^^^^^^^^^^^^^^^^^^^^\n",
      "  File \"C:\\Users\\njoki\\AppData\\Local\\Programs\\Python\\Python311\\Lib\\site-packages\\transformers\\models\\auto\\tokenization_auto.py\", line 805, in from_pretrained\n",
      "    return tokenizer_class_fast.from_pretrained(pretrained_model_name_or_path, *inputs, **kwargs)\n",
      "           ^^^^^^^^^^^^^^^^^^^^^^^^^^^^^^^^^^^^^^^^^^^^^^^^^^^^^^^^^^^^^^^^^^^^^^^^^^^^^^^^^^^^^^\n",
      "  File \"C:\\Users\\njoki\\AppData\\Local\\Programs\\Python\\Python311\\Lib\\site-packages\\transformers\\tokenization_utils_base.py\", line 2028, in from_pretrained\n",
      "    return cls._from_pretrained(\n",
      "           ^^^^^^^^^^^^^^^^^^^^^\n",
      "  File \"C:\\Users\\njoki\\AppData\\Local\\Programs\\Python\\Python311\\Lib\\site-packages\\transformers\\tokenization_utils_base.py\", line 2260, in _from_pretrained\n",
      "    tokenizer = cls(*init_inputs, **init_kwargs)\n",
      "                ^^^^^^^^^^^^^^^^^^^^^^^^^^^^^^^^\n",
      "  File \"C:\\Users\\njoki\\AppData\\Local\\Programs\\Python\\Python311\\Lib\\site-packages\\transformers\\models\\pegasus\\tokenization_pegasus_fast.py\", line 150, in __init__\n",
      "    super().__init__(\n",
      "  File \"C:\\Users\\njoki\\AppData\\Local\\Programs\\Python\\Python311\\Lib\\site-packages\\transformers\\tokenization_utils_fast.py\", line 120, in __init__\n",
      "    raise ValueError(\n",
      "ValueError: Couldn't instantiate the backend tokenizer from one of: \n",
      "(1) a `tokenizers` library serialization file, \n",
      "(2) a slow tokenizer instance to convert or \n",
      "(3) an equivalent slow tokenizer class to instantiate and convert. \n",
      "You need to have sentencepiece installed to convert a slow tokenizer to a fast one.\n"
     ]
    }
   ],
   "source": [
    "# Create a Gradio Interface with parallel inputs\n",
    "iface = gr.Interface(\n",
    "    fn=summary1,summary2  # List of functions for parallel processing\n",
    "    inputs=gr.Textbox(lines=20, label=\"Paste some text here\"),\n",
    "    outputs=[\"text\"],  # Two text outputs for the results\n",
    "    title=\"Compare 2 AI Summarizers\"\n",
    ")\n",
    "\n",
    "# Launch the interface\n",
    "iface.launch(share=True)"
   ]
  },
  {
   "cell_type": "code",
   "execution_count": null,
   "id": "788c1fef-66da-4a74-880c-01b6eacd5450",
   "metadata": {},
   "outputs": [],
   "source": []
  }
 ],
 "metadata": {
  "kernelspec": {
   "display_name": "Python 3 (ipykernel)",
   "language": "python",
   "name": "python3"
  },
  "language_info": {
   "codemirror_mode": {
    "name": "ipython",
    "version": 3
   },
   "file_extension": ".py",
   "mimetype": "text/x-python",
   "name": "python",
   "nbconvert_exporter": "python",
   "pygments_lexer": "ipython3",
   "version": "3.11.1"
  }
 },
 "nbformat": 4,
 "nbformat_minor": 5
}
