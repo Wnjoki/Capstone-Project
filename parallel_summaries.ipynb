{
 "cells": [
  {
   "cell_type": "code",
   "execution_count": 1,
   "id": "daaec198-2865-46fc-aad0-c56b6afcfcbf",
   "metadata": {},
   "outputs": [],
   "source": [
    "#!pip install gradio  \n",
    "#!pip install  transformers\n",
    "#!pip install nltk\n",
    "\n"
   ]
  },
  {
   "cell_type": "code",
   "execution_count": 2,
   "id": "d31a3da0-69e5-4813-a36b-79004541444e",
   "metadata": {},
   "outputs": [
    {
     "name": "stdout",
     "output_type": "stream",
     "text": [
      "WARNING:tensorflow:From C:\\Users\\njoki\\AppData\\Local\\Programs\\Python\\Python311\\Lib\\site-packages\\keras\\src\\losses.py:2976: The name tf.losses.sparse_softmax_cross_entropy is deprecated. Please use tf.compat.v1.losses.sparse_softmax_cross_entropy instead.\n",
      "\n"
     ]
    }
   ],
   "source": [
    "\n",
    "import gradio as gr\n",
    "import re\n",
    "import warnings\n",
    "import pickle\n",
    "\n",
    "\n",
    "#from gradio.mix import Parallel\n",
    "from nltk.tokenize import sent_tokenize\n",
    "from transformers import (\n",
    "    AutoTokenizer,\n",
    "    AutoModel,\n",
    "    AutoModelForSeq2SeqLM,\n",
    "    Wav2Vec2ForCTC,\n",
    "    Wav2Vec2Tokenizer,\n",
    "    pipeline,\n",
    ")\n",
    "\n",
    "\n",
    "# Ignore specific warnings\n",
    "warnings.filterwarnings(\"ignore\")\n",
    "\n"
   ]
  },
  {
   "cell_type": "markdown",
   "id": "c2e0c69e-5ee7-416a-86af-cff477151b1d",
   "metadata": {},
   "source": [
    "**Load Data and Define Summarizing functions**"
   ]
  },
  {
   "cell_type": "code",
   "execution_count": 37,
   "id": "6252d084-675c-40d0-8652-63df2870c970",
   "metadata": {},
   "outputs": [],
   "source": [
    "\n",
    "with open('C:/Users/njoki/OneDrive/Desktop/Capstone Project/cleaned_data.pkl', 'rb') as file:\n",
    "     dataset = pickle.load(file)"
   ]
  },
  {
   "cell_type": "code",
   "execution_count": 38,
   "id": "6872f971-2fe7-442b-a827-04ae862b6159",
   "metadata": {},
   "outputs": [
    {
     "data": {
      "text/plain": [
       "510"
      ]
     },
     "execution_count": 38,
     "metadata": {},
     "output_type": "execute_result"
    }
   ],
   "source": [
    "len(dataset)"
   ]
  },
  {
   "cell_type": "code",
   "execution_count": 5,
   "id": "9a36ef36-f7de-4e42-810c-7557a4a0e9a4",
   "metadata": {},
   "outputs": [
    {
     "data": {
      "text/plain": [
       "'EXHIBIT  INFORMATION EXHIBIT IDENTIFIED CONFIDENTIAL EXCLUDED MATERIAL II WOULD LIKELY CAUSE COMPETITIVE HARM REGISTRANT PUBLICLY DISCLOSED. SERVICES AGREEMENT Services Agreement Agreement entered October   made effective November   Effective Date Provider TELCOSTAR PTE LTD. company organized existing laws Singapore Ability Computer Software Industries Ltd company organized existing laws State Israel Recipient. foregoing parties referred herein Party together Parties. RECITALS A. Recipient wishes engage Provider provide certain services resources Services Provider desires provide Recipient Services accordance terms conditions set forth herein. AGREEMENT Parties hereby agree follows . Services.  Provision Services. Provider agrees provide Services set forth Exhibit attached hereto Exhibit may amended supplemented pursuant terms Agreement Exhibit Recipient respective periods terms conditions set forth Agreement Exhibit. Notwithstanding contents Exhibit Provider agrees respond good faith reasonable request Recipient access additional services resources necessary operation Recipient currently contemplated Exhibit price agreed upon good faith negotiations Parties. additional services resources provided Provider shall constitute Services Agreement subject respect provisions Agreement fully set forth Exhibit date hereof. Recipient may freely assign rights Agreement receive Services affiliates.  Standard Service. Provider represents warrants agrees Services shall provided good faith accordance applicable law manner generally consistent historical provision Services standard care historically provided. Provider shall maintain complete accurate records relating provision Services Agreement form Recipient shall approve. Provider shall use best efforts provide employees contractors perform Services whose names positions respective levels experience relevant licenses shall set Exhibit attached hereto collectively Provider Representatives. Provider may make change Provider Representatives without prior consent Recipient. Provider Representatives shall dedicated solely providing Services Recipient shall provide services resources Provider customer Provider. Recipient acknowledges Agreement create fiduciary relationship partnership joint venture relationships trust agency Parties Services provided Provider independent contractor. Notwithstanding anything contrary Section  event Provider uses subcontractors perform Services Provider released responsibility obligations Agreement Provider shall remain fully responsible financially otherwise Services provided subcontractor extent Provider performed Services subject limitations set forth Agreement agrees pay fees expenses subcontractor Provider shall remain ultimately responsible ensuring Services provided subcontractor performs obligations accordance terms Agreement obligations respect nature quality standards care set forth Section  satisfied respect Service provided subcontractor. Provider shall times term Agreement maintain cause maintained computer software computer hardware used connection Services substantially degree care skill diligence Provider maintains causes maintained Effective Date computer software computer hardware consistent past practices Effective Date including without limitation respect type quality timeliness maintenance.  Additional Services. Nothing Agreement shall construed prevent Recipient performing acquiring services providers similar identical Services.  Intellectual Property. Recipient shall Provider hereby irrevocably assigns Recipient rights title interest invention technique process device discovery improvement knowhow whether patentable proprietary rights industrial rights similar rights case worldwide basis copies tangible embodiments thereof part thereof whatever form medium hereafter made conceived solely jointly Provider working behalf Recipient relate suggested results Services. Recipients request Provider shall disclose invention technique process device discovery improvement knowhow promptly Recipient. Provider shall upon request Recipient promptly execute specific assignment title Recipient anything else reasonably necessary enable Recipient secure patent trade secret proprietary rights. writings works authorship including without limitation program codes documentation produced authored Provider course performing services Recipient together associated copyrights works made hire exclusive property Recipient. extent writings works authorship may operation law works made hire Agreement shall constitute irrevocable assignment Provider Recipient ownership rights copyright items Recipient shall right obtain hold name rights copyright copyright registrations similar protections may available works. Provider shall give Recipient designees assistance reasonably required perfect rights. . Compensation.  Responsibility Wages Fees. time employees Provider providing Services Recipient Agreement employees remain employees Provider shall deemed employees Recipient purpose Provider shall solely responsible payment provision wages bonuses commissions employee benefits including severance workers compensation withholding payment applicable taxes relating employment.  Terms Payment Related Matters. consideration provision Services following Effective Date Recipient shall pay Provider amount equal Providers actual cost providing Services plus  service fee. addition amount event Provider incurs reasonable documented outofpocket expenses provision Service including without limitation license fees payments thirdparty service providers subcontractors included expenses collectively OutofPocket Costs Recipient shall reimburse Provider OutofPocket Costs. Provider shall provide Recipient monthly invoices Invoices shall set forth reasonable detail supporting documentation Recipient may reasonably request respect OutofPocket Costs amounts payable Agreement ii payments pursuant Agreement shall made within fifteen  days date receipt Invoice Recipient Provider. Provider shall allow Recipient use cost December  .  Invoice Disputes. event Invoice dispute Recipient shall deliver written statement Provider prior date payment due disputed Invoice listing disputed items providing reasonably detailed description disputed item. Amounts disputed shall deemed accepted shall paid notwithstanding disputes items. Parties shall seek resolve disputes expeditiously good faith. Provider shall continue performing Services accordance Agreement pending resolution dispute. Right Setoff. Parties hereby acknowledges shall right Agreement offset amounts owed become due owing Party whether Agreement Purchase Agreement otherwise amount owed become due owing Party. . Termination.  Termination Agreement. Agreement deemed effective Effective Date Agreement shall terminate December   unless terminated earlier accordance Section .  Recipient Provider may sole discretion terminate Agreement whole part time without cause without liability except case Recipient required payment services rendered reimbursement authorized expenses incurred providing least  ninety days prior written notice party date Services Termination Date.  Breach. Party NonBreaching Party may terminate Agreement respect Service whole part time upon prior written notice Party Breaching Party Breaching Party failed pursuant Section  perform material obligations Agreement relating Service failure shall continued without cure period  days receipt Breaching Party written notice failure NonBreaching Party seeking terminate service. avoidance doubt nonpayment Recipient Service provided Provider accordance Agreement subject goodfaith dispute shall deemed breach purposes Section .  Insolvency. event either Party hereto shall file petition bankruptcy become declared insolvent become subject proceedings dismissed within sixty  days related liquidation insolvency appointment receiver make assignment behalf substantially creditors take corporate action winding dissolution party shall right terminate Agreement providing written notice accordance Section .  Effect Termination. Upon termination Agreement entirety pursuant Section  obligations Parties hereto shall terminate except provisions Section  entirety Sections    shall survive termination expiration Agreement.  Upon expiration termination Agreement reason Provider shall promptly Deliver Recipient documents work product materials whether complete prepared behalf Provider course performing Services Recipient paid. Return Recipient Recipient owned property equipment materials possession control. Remove Providerowned property equipment materials located Recipients locations. Deliver Recipient documents tangible materials copies containing reflecting incorporating based Recipients Confidential Information. pro rata basis repay fees expenses paid advance Services provided. Permanently erase Recipients Confidential Information computer systems. Certify writing Recipient complied requirements Section   Force Majeure. Provider prevented delayed complying either totally part terms provisions Agreement reason fire flood storm strike lockout labor trouble shortage delays unaffiliated suppliers carriers shortages fuel power raw materials components law order proclamation regulation ordinance demand seizure requirement governmental authority riot civil commotion war rebellion acts terrorism nuclear accident causes beyond reasonable control Provider acts omissions delays acting governmental military authority Recipient Force Majeure upon written notice Recipient Services affected Force Majeure Affected Services andor requirements Agreement suspended period Force Majeure Provider liability Recipient party connection Affected Services. Force Majeure question prevails continuous period excess three months date Force Majeure begins Provider shall entitled give notice Recipient terminate Affected Services. notice terminate must specify termination date must less ten  days date notice terminate given. notice terminate validly given Affected Services terminate termination date set notice. Neither Party shall liability respect termination Affected Services due Force Majeure rights liabilities accrued prior termination shall subsist.. Confidentiality.  Confidentiality. term Agreement thereafter Parties hereto shall shall instruct respective representatives maintain confidence disclose Partys financial technical sales marketing development personnel information records data including without limitation customer lists supplier lists trade secrets designs product formulations product specifications proprietary confidential information however recorded preserved whether written oral information Confidential Information. Party hereto shall use degree care less reasonable care protect Partys Confidential Information uses protect Confidential Information like nature. Unless otherwise authorized agreement Parties Party receiving Confidential Information Party Receiving Party may use Confidential Information purposes fulfilling obligations Agreement Permitted Purpose. Receiving Party may disclose Confidential Information representatives need know information Permitted Purpose advised terms Section  Receiving Party shall liable breach confidentiality provisions Persons provided however Receiving Party may disclose Confidential Information extent Confidential Information required disclosed law case Receiving Party shall promptly notify extent possible disclosing party Disclosing Party take reasonable steps assist contesting disclosure requirement protecting Disclosing Partys rights prior disclosure case Receiving Party shall disclose Confidential Information advised counsel writing legally bound disclose. Notwithstanding foregoing Confidential Information shall include information Receiving Party demonstrate publicly known time disclosure become publicly known act Receiving Party representatives breach Section  rightfully received third party without duty confidentiality developed independently without reliance Confidential Information.  Return Confidential Information. Upon demand Disclosing Party time upon expiration termination Agreement respect Service Receiving Party agrees promptly return destroy Disclosing Partys option Confidential Information received connection Agreement. Confidential Information destroyed authorized officer Receiving Party shall certify destruction writing. . Indemnification.  Indemnification. Provider shall indemnify defend hold harmless Recipient officers directors employees agents affiliates successors permitted assigns collectively Indemnified Party losses damages liabilities deficiencies claims actions judgments settlements interest awards penalties fines costs expenses whatever kind including attorneys fees fees costs enforcing right indemnification Agreement cost pursuing insurance providers incurred Indemnified Party awarded Indemnified Party collectively Losses relating toarising resulting claim third party Recipient arising occurring connection Providers negligence willful misconduct breach Agreement. Provider shall enter settlement without Recipients Indemnified Partys prior written consent. . Miscellaneous.  Entire Agreement. Agreement Purchase Agreement documents referred herein therein constitute entire agreement among Parties supersedes prior understandings agreements representations among Parties written oral extent relate way subject matter hereof. Succession Assignment. Agreement shall binding upon inure benefit Parties named herein respective successors permitted assigns. Provider may assign delegate otherwise transfer either Agreement rights interests obligations hereunder without prior written approval Recipient.  Counterparts. Agreement may executed one counterparts shall deemed original together constitute one instrument. Counterparts may delivered via facsimile electronic mail including portable document format PDF electronic signature complying U.S. federal ESIGN Act  e.g. www.docusign.com.  Titles Headings. Titles section headings contained Agreement inserted convenience shall affect way meaning interpretation Agreement. . Notices. notices requests consents claims demands waivers communications hereunder shall writing shall deemed given delivered hand written confirmation receipt received addressee sent nationally recognized overnight courier receipt requested date sent facsimile email PDF document confirmation transmission sent normal business hours recipient next Business Day sent normal business hours recipient third day date mailed certified registered mail return receipt requested postage prepaid. communications must sent respective parties following addresses address party shall specified notice given accordance Section  Provider copy NA Recipient TELCOSTAR PTE. LTD  Eu Tong Sen Street Tel Aviv Israel   Central Singapore  Email aviability.co.il Attention Avi Levin copy McDermott Emery LLP  Madison Avenue New York NY  Telephone   Facsimile   EMAIL GEMMANUELMWE.COM Attention Gary Emmanuel7Any Party may change address notices requests demands claims communications hereunder delivered giving Parties notice manner herein set forth.  Assurances. Parties agree furnish upon request information execute deliver documents acts things party may reasonably request purpose carrying intent Agreement documents referred Agreement.  Governing Law. Agreement claim controversy dispute arising related Agreement transactions contemplated hereby andor interpretation enforcement rights duties Parties whether arising contract tort equity otherwise shall governed construed accordance domestic laws State Israel including respect statute limitations limitations period applicable claim controversy dispute without giving effect choice conflict law provision rule whether State Israel jurisdiction would cause application laws jurisdiction State Israel.  Consent Jurisdiction. Parties hereby irrevocably submit disputes Agreement exclusive jurisdiction courts located TelAviv Israel provided however Recipient shall entitled seek injunction appropriate remedy Provider country Provider acted breach terms hereof.  Specific Performance. Parties hereby agree event breach Agreement damages would difficult impossible ascertain irreparable damage would occur event provisions Agreement performed accordance specific terms otherwise breached. Accordingly hereby agreed Parties shall entitled seek injunction equitable relief court competent jurisdiction enjoin breach enforce specifically terms provisions hereof addition remedy right entitled law equity without necessity proving damages requirement posting bond security.  Amendments Waivers. amendment provision Agreement shall valid unless shall writing signed Recipient Provider. waiver Party provision Agreement default misrepresentation breach warranty covenant hereunder whether intentional shall valid unless shall writing signed Party making waiver shall waiver deemed extend prior subsequent default misrepresentation breach warranty covenant hereunder affect way rights arising virtue prior subsequent occurrence. Severability. term provision Agreement held invalid unenforceable court competent jurisdiction competent governmental authority situation jurisdiction shall affect validity enforceability remaining terms provisions hereof validity enforceability offending term provision situation jurisdiction. Upon determination Parties shall negotiate good faith replace invalid unenforceable provisions valid provisions economic effect comes close possible invalid unenforceable provisions.  Construction. Parties participated jointly negotiation drafting Agreement. event ambiguity question intent interpretation arises Agreement shall construed drafted jointly Parties presumption burden proof shall arise favoring disfavoring Party virtue authorship provisions Agreement. reference law shall deemed also refer rules regulations promulgated thereunder unless context requires otherwise. word including shall mean including without limitation.  Incorporation Exhibits Disclosure Schedule. Exhibit identified Agreement incorporated herein reference made part hereof.  Amendment Restatement. Agreement amends restates full Production Contract. SIGNATURE PAGE FOLLOWS9IN WITNESS WHEREOF Parties executed Services Agreement date first written above. PROVIDER RECIPIENT Name Name Title Title10EXHIBIT Services '"
      ]
     },
     "execution_count": 5,
     "metadata": {},
     "output_type": "execute_result"
    }
   ],
   "source": [
    "dataset[1]"
   ]
  },
  {
   "cell_type": "markdown",
   "id": "2266833b-558c-46b3-9aee-1fc887976081",
   "metadata": {},
   "source": [
    "**a. Summarization via Hugging Face Pipeline**\n",
    "\n",
    "\n",
    "Hugging Face's pipeline allows you to load up several summarization models, from FB's Bart to Google's T5. "
   ]
  },
  {
   "cell_type": "code",
   "execution_count": 6,
   "id": "d0ba4a29-485e-4d8a-af15-91b78883b6d3",
   "metadata": {},
   "outputs": [],
   "source": [
    "\n",
    "#create a pipeline\n",
    "\n",
    "pipeline_summ = pipeline(\n",
    "    \"summarization\",\n",
    "    model=\"facebook/bart-large-cnn\", # one can also use\"t5-small\" etc \n",
    "    tokenizer=\"facebook/bart-large-cnn\",\n",
    "    framework=\"pt\",\n",
    ")\n",
    "\n",
    "# First of 2 summarization function\n",
    "def fb_summarizer(dataset):\n",
    "    #input_text = dataset\n",
    "    results = pipeline_summ(dataset)\n",
    "    return [result[\"summary_text\"] for result in results]\n",
    "\n"
   ]
  },
  {
   "cell_type": "code",
   "execution_count": 7,
   "id": "b5a3d9dd-881f-4f13-8e60-e6cb6d510561",
   "metadata": {},
   "outputs": [
    {
     "name": "stdout",
     "output_type": "stream",
     "text": [
      "Running on local URL:  http://127.0.0.1:7860\n",
      "Running on public URL: https://dc023118950fce7a8e.gradio.live\n",
      "\n",
      "This share link expires in 72 hours. For free permanent hosting and GPU upgrades, run `gradio deploy` from Terminal to deploy to Spaces (https://huggingface.co/spaces)\n"
     ]
    },
    {
     "data": {
      "text/html": [
       "<div><iframe src=\"https://dc023118950fce7a8e.gradio.live\" width=\"100%\" height=\"500\" allow=\"autoplay; camera; microphone; clipboard-read; clipboard-write;\" frameborder=\"0\" allowfullscreen></iframe></div>"
      ],
      "text/plain": [
       "<IPython.core.display.HTML object>"
      ]
     },
     "metadata": {},
     "output_type": "display_data"
    },
    {
     "data": {
      "text/plain": []
     },
     "execution_count": 7,
     "metadata": {},
     "output_type": "execute_result"
    }
   ],
   "source": [
    "# First of 2 Gradio apps to use in \"parallel\"\n",
    "summary1 = gr.Interface(\n",
    "    fn=fb_summarizer,\n",
    "    inputs=gr.Textbox(),\n",
    "    outputs=gr.Textbox(label=\"Summary by FB/Bart-large\"),\n",
    ")\n",
    "\n",
    "summary1.launch(share=True)"
   ]
  },
  {
   "cell_type": "markdown",
   "id": "4ce09a61-21d5-4a9c-ad58-1edeb17a1169",
   "metadata": {},
   "source": [
    "**b. Summarization using Hugging  Face's Model Hub**"
   ]
  },
  {
   "cell_type": "code",
   "execution_count": 8,
   "id": "ef7ec2ff-2c51-4779-bd4c-358577ecdc0f",
   "metadata": {},
   "outputs": [],
   "source": [
    "model_name = \"google/pegasus-cnn_dailymail\" \n",
    "\n",
    "# Second of 2 summarization function\n",
    "def google_summarizer(dataset):\n",
    "    input_texts = dataset\n",
    "    \n",
    "    tokenizer_pegasus = AutoTokenizer.from_pretrained(model_name)\n",
    "\n",
    "    model_pegasus = AutoModelForSeq2SeqLM.from_pretrained(model_name)\n",
    "\n",
    "    batch = tokenizer_pegasus.prepare_seq2seq_batch(\n",
    "        input_texts, truncation=True, padding=\"longest\", return_tensors=\"pt\"\n",
    "    )\n",
    "    translated = model_pegasus.generate(**batch)\n",
    "\n",
    "    pegasus_summary = tokenizer_pegasus.batch_decode(\n",
    "        translated, skip_special_tokens=True\n",
    "    )\n",
    "\n",
    "    return pegasus_summary[0]\n",
    "\n",
    "\n"
   ]
  },
  {
   "cell_type": "code",
   "execution_count": 9,
   "id": "f6b07c2a-22a3-4a61-909b-0a7a7d994df4",
   "metadata": {},
   "outputs": [
    {
     "name": "stderr",
     "output_type": "stream",
     "text": [
      "Some weights of PegasusForConditionalGeneration were not initialized from the model checkpoint at google/pegasus-cnn_dailymail and are newly initialized: ['model.decoder.embed_positions.weight', 'model.encoder.embed_positions.weight']\n",
      "You should probably TRAIN this model on a down-stream task to be able to use it for predictions and inference.\n"
     ]
    },
    {
     "name": "stdout",
     "output_type": "stream",
     "text": [
      "TELCOSTAR PTE LTD. company organized existing laws Singapore Ability Computer Software Industries Ltd company organized existing laws State Israel.<n>Service Agreement entered October made effective November Effective Date Provider TELCOSTAR PTE LTD. company organized existing laws Singapore Ability Computer Software Industries Ltd company organized existing laws State Israel.\n"
     ]
    }
   ],
   "source": [
    "summary2 = google_summarizer(dataset[1])\n",
    "print(summary2)"
   ]
  },
  {
   "cell_type": "code",
   "execution_count": 10,
   "id": "a9930444-05a0-44d8-bbd7-67cc9e20928a",
   "metadata": {},
   "outputs": [
    {
     "name": "stdout",
     "output_type": "stream",
     "text": [
      "Running on local URL:  http://127.0.0.1:7861\n",
      "Running on public URL: https://a448127755a949fda5.gradio.live\n",
      "\n",
      "This share link expires in 72 hours. For free permanent hosting and GPU upgrades, run `gradio deploy` from Terminal to deploy to Spaces (https://huggingface.co/spaces)\n"
     ]
    },
    {
     "data": {
      "text/html": [
       "<div><iframe src=\"https://a448127755a949fda5.gradio.live\" width=\"100%\" height=\"500\" allow=\"autoplay; camera; microphone; clipboard-read; clipboard-write;\" frameborder=\"0\" allowfullscreen></iframe></div>"
      ],
      "text/plain": [
       "<IPython.core.display.HTML object>"
      ]
     },
     "metadata": {},
     "output_type": "display_data"
    },
    {
     "data": {
      "text/plain": []
     },
     "execution_count": 10,
     "metadata": {},
     "output_type": "execute_result"
    }
   ],
   "source": [
    "# Second of 2 Gradio apps to use in \"parallel\"\n",
    "summary2 = gr.Interface(\n",
    "    fn=google_summarizer,\n",
    "    inputs=gr.Textbox(),\n",
    "    outputs=gr.Textbox(label=\"Summary by Google/Pegasus-CNN-Dailymail\"),\n",
    ")\n",
    "\n",
    "summary2.launch(share=True)"
   ]
  },
  {
   "cell_type": "markdown",
   "id": "c3c1108b-cbe5-41c9-96fa-701d3af72f93",
   "metadata": {},
   "source": [
    "**2. Launch the Models in Parallel**"
   ]
  },
  {
   "cell_type": "code",
   "execution_count": 11,
   "id": "bbd06638-ef5d-4bc7-9efe-239326f9d388",
   "metadata": {},
   "outputs": [
    {
     "name": "stdout",
     "output_type": "stream",
     "text": [
      "Collecting sentencepiece\n",
      "  Using cached sentencepiece-0.1.99-cp311-cp311-win_amd64.whl (977 kB)\n",
      "Installing collected packages: sentencepiece\n",
      "Successfully installed sentencepiece-0.1.99\n"
     ]
    }
   ],
   "source": [
    "!pip install sentencepiece"
   ]
  },
  {
   "cell_type": "code",
   "execution_count": 39,
   "id": "e01f79dc-9359-41d8-958c-a93c00ee517f",
   "metadata": {},
   "outputs": [
    {
     "name": "stdout",
     "output_type": "stream",
     "text": [
      "Running on local URL:  http://127.0.0.1:7864\n",
      "Running on public URL: https://857deefaa1a21781c8.gradio.live\n",
      "\n",
      "This share link expires in 72 hours. For free permanent hosting and GPU upgrades, run `gradio deploy` from Terminal to deploy to Spaces (https://huggingface.co/spaces)\n"
     ]
    },
    {
     "data": {
      "text/html": [
       "<div><iframe src=\"https://857deefaa1a21781c8.gradio.live\" width=\"100%\" height=\"500\" allow=\"autoplay; camera; microphone; clipboard-read; clipboard-write;\" frameborder=\"0\" allowfullscreen></iframe></div>"
      ],
      "text/plain": [
       "<IPython.core.display.HTML object>"
      ]
     },
     "metadata": {},
     "output_type": "display_data"
    },
    {
     "data": {
      "text/plain": []
     },
     "execution_count": 39,
     "metadata": {},
     "output_type": "execute_result"
    }
   ],
   "source": [
    "# Create a Gradio Interface with parallel inputs\n",
    "def parallel_summaries(text):\n",
    "    # Call individual summarization functions\n",
    "    fb_summary = fb_summarizer(text)\n",
    "    google_summary = google_summarizer(text)\n",
    "    return fb_summary, google_summary\n",
    "\n",
    "iface = gr.Interface(\n",
    "    fn=parallel_summaries,  # List of functions for parallel processing\n",
    "    inputs=[gr.Textbox(lines=20, label=\"Paste some text here\"),\n",
    "            gr.File(label=\"Or Upload a Text File\"),\n",
    "            gr.Dropdown(choices=dataset)],\n",
    "    outputs=[gr.Textbox(interactive=False, label=\"Summary 1\"), \n",
    "             gr.Textbox(interactive=False, label=\"Summary 2\")],\n",
    "    title=\"Compare 2 AI Summarizers\"\n",
    ")\n",
    "\n",
    "# Launch the interface\n",
    "iface.launch(share=True)"
   ]
  },
  {
   "cell_type": "code",
   "execution_count": 40,
   "id": "788c1fef-66da-4a74-880c-01b6eacd5450",
   "metadata": {},
   "outputs": [
    {
     "ename": "SyntaxError",
     "evalue": "invalid syntax (3470978507.py, line 1)",
     "output_type": "error",
     "traceback": [
      "\u001b[1;36m  Cell \u001b[1;32mIn[40], line 1\u001b[1;36m\u001b[0m\n\u001b[1;33m    gradio deploy\u001b[0m\n\u001b[1;37m           ^\u001b[0m\n\u001b[1;31mSyntaxError\u001b[0m\u001b[1;31m:\u001b[0m invalid syntax\n"
     ]
    },
    {
     "name": "stderr",
     "output_type": "stream",
     "text": [
      "Traceback (most recent call last):\n",
      "  File \"C:\\Users\\njoki\\AppData\\Local\\Programs\\Python\\Python311\\Lib\\site-packages\\gradio\\queueing.py\", line 489, in call_prediction\n",
      "    output = await route_utils.call_process_api(\n",
      "             ^^^^^^^^^^^^^^^^^^^^^^^^^^^^^^^^^^^\n",
      "  File \"C:\\Users\\njoki\\AppData\\Local\\Programs\\Python\\Python311\\Lib\\site-packages\\gradio\\route_utils.py\", line 232, in call_process_api\n",
      "    output = await app.get_blocks().process_api(\n",
      "             ^^^^^^^^^^^^^^^^^^^^^^^^^^^^^^^^^^^\n",
      "  File \"C:\\Users\\njoki\\AppData\\Local\\Programs\\Python\\Python311\\Lib\\site-packages\\gradio\\blocks.py\", line 1561, in process_api\n",
      "    result = await self.call_function(\n",
      "             ^^^^^^^^^^^^^^^^^^^^^^^^^\n",
      "  File \"C:\\Users\\njoki\\AppData\\Local\\Programs\\Python\\Python311\\Lib\\site-packages\\gradio\\blocks.py\", line 1179, in call_function\n",
      "    prediction = await anyio.to_thread.run_sync(\n",
      "                 ^^^^^^^^^^^^^^^^^^^^^^^^^^^^^^^\n",
      "  File \"C:\\Users\\njoki\\AppData\\Local\\Programs\\Python\\Python311\\Lib\\site-packages\\anyio\\to_thread.py\", line 56, in run_sync\n",
      "    return await get_async_backend().run_sync_in_worker_thread(\n",
      "           ^^^^^^^^^^^^^^^^^^^^^^^^^^^^^^^^^^^^^^^^^^^^^^^^^^^^\n",
      "  File \"C:\\Users\\njoki\\AppData\\Local\\Programs\\Python\\Python311\\Lib\\site-packages\\anyio\\_backends\\_asyncio.py\", line 2134, in run_sync_in_worker_thread\n",
      "    return await future\n",
      "           ^^^^^^^^^^^^\n",
      "  File \"C:\\Users\\njoki\\AppData\\Local\\Programs\\Python\\Python311\\Lib\\site-packages\\anyio\\_backends\\_asyncio.py\", line 851, in run\n",
      "    result = context.run(func, *args)\n",
      "             ^^^^^^^^^^^^^^^^^^^^^^^^\n",
      "  File \"C:\\Users\\njoki\\AppData\\Local\\Programs\\Python\\Python311\\Lib\\site-packages\\gradio\\utils.py\", line 678, in wrapper\n",
      "    response = f(*args, **kwargs)\n",
      "               ^^^^^^^^^^^^^^^^^^\n",
      "TypeError: parallel_summaries() takes 1 positional argument but 3 were given\n"
     ]
    }
   ],
   "source": [
    "gradio deploy"
   ]
  },
  {
   "cell_type": "code",
   "execution_count": null,
   "id": "92b838b5-af43-4bc6-8cba-203778970bc6",
   "metadata": {},
   "outputs": [],
   "source": []
  }
 ],
 "metadata": {
  "kernelspec": {
   "display_name": "Python 3 (ipykernel)",
   "language": "python",
   "name": "python3"
  },
  "language_info": {
   "codemirror_mode": {
    "name": "ipython",
    "version": 3
   },
   "file_extension": ".py",
   "mimetype": "text/x-python",
   "name": "python",
   "nbconvert_exporter": "python",
   "pygments_lexer": "ipython3",
   "version": "3.11.1"
  }
 },
 "nbformat": 4,
 "nbformat_minor": 5
}
